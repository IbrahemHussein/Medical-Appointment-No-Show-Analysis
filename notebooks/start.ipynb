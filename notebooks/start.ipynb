{
 "cells": [
  {
   "cell_type": "markdown",
   "metadata": {},
   "source": [
    "<div style='background:black; padding:5px; border-radius:5px'>\n",
    "    <h1 style='text-align:center;color:#BD2A2E'>Medical Appointment No Shows </h1>\n",
    "    <hr style=\"width:80%; color:blue\">\n",
    "    <hr style=\"width:50%; color:blue\">\n",
    "    <img src='../src/image/01.jpeg' alt='project image' style='width:500px; height:300px; display: block; margin: auto;'>\n",
    "    <h3 style='color:white'>Project Description : </h3>\n",
    "    <p style='color:white;text-align:center'>This project aims to analyze a dataset of 100,000 medical appointments in Brazil, focusing on whether or not patients show up for their appointments. The dataset includes several characteristics about the patient in each row.\n",
    "    </p>\n",
    "    <h3>Data : </h3>\n",
    "    <table style=\"width:80%;margin: auto;\">\n",
    "    <thead>\n",
    "       <tr>\n",
    "            <th style=\"border:1px solid black;padding:8px;width:30%;text-align:center;color: #BD2A2E\">Column</th>\n",
    "            <th style=\"border:1px solid black;padding:8px;text-align:center;color: #BD2A2E\">Description</th>\n",
    "        </tr>\n",
    "    </thead>\n",
    "    <tbody>\n",
    "        <tr>\n",
    "            <td style=\"text-align:center\">PatientId</td>\n",
    "            <td>Identification of a patient.</td>\n",
    "        </tr>\n",
    "        <tr>\n",
    "            <td style=\"text-align:center\">AppointmentID</td>\n",
    "            <td>Identification of each appointment.</td>\n",
    "        </tr>\n",
    "        <tr>\n",
    "            <td style=\"text-align:center\">Gender</td>\n",
    "            <td> Male or Female. Female is the greater proportion, women take way more care of their health in comparison to men</td>\n",
    "        </tr>    \n",
    "        <tr>\n",
    "            <td style=\"text-align:center\">DataMarcacaoConsulta</td>\n",
    "            <td> The day of the actual appointment, when they have to visit the doctor.</td>\n",
    "        </tr>   \n",
    "        <tr>\n",
    "            <td style=\"text-align:center\">DataAgendamento</td>\n",
    "            <td> The day someone called or registered the appointment, this is before the appointment of course.</td>\n",
    "        </tr>   \n",
    "        <tr>\n",
    "            <td style=\"text-align:center\">Age</td>\n",
    "            <td> How old is the patient.</td>\n",
    "        </tr>     \n",
    "        <tr>\n",
    "            <td style=\"text-align:center\">Neighbourhood</td>\n",
    "            <td> Where the appointment takes place.</td>\n",
    "        </tr>  \n",
    "        <tr>\n",
    "            <td style=\"text-align:center\">Scholarship</td>\n",
    "            <td> Indicates whether or not the patient is enrolled in  welfare program</td>\n",
    "        </tr>     \n",
    "         <tr>\n",
    "            <td style=\"text-align:center\">Hipertension</td>\n",
    "            <td>  Indicates if the patient has hypertension</td>\n",
    "        </tr>\n",
    "        <tr>\n",
    "            <td style=\"text-align:center\">Diabetes</td>\n",
    "            <td>  Indicates if the patient has diabetes.</td>\n",
    "        </tr>\n",
    "         <tr>\n",
    "            <td style=\"text-align:center\">Alcoholism</td>\n",
    "            <td>  Indicates if the patient is an alcoholic.</td>\n",
    "        </tr>\n",
    "        <tr>\n",
    "            <td style=\"text-align:center\">Handcap</td>\n",
    "            <td> The number of disabilities a patient has</td>\n",
    "        </tr>\n",
    "        <tr>\n",
    "            <td style=\"text-align:center\">SMS_received</td>\n",
    "            <td> Indicates if one or more SMS messages were sent to the patient. This is an integer</td>\n",
    "        </tr>\n",
    "        <tr>\n",
    "            <td style=\"text-align:center\">No-show</td>\n",
    "            <td>  It says ‘No’ if the patient showed up to their appointment, and ‘Yes’ if they did not show up.</td>\n",
    "        </tr>\n",
    "    </tbody>\n",
    "    </table>\n",
    "</div>\n"
   ]
  },
  {
   "cell_type": "markdown",
   "metadata": {},
   "source": [
    "<hr style=\"width:95%\">\n",
    "<hr style=\"width:70%\">\n",
    "<hr style=\"width:50%\">\n",
    "<hr style=\"width:25%\">\n",
    "<hr style=\"width:10%\">\n",
    "<hr style=\"width:5%\">"
   ]
  },
  {
   "cell_type": "markdown",
   "metadata": {},
   "source": [
    "<div style=\"background:#4C4A59;width:900px;margin:auto;border-radius:8px;padding:8px\">\n",
    "    <h1 style=\"color:#DBF227;text-align:center;\">Import Libraries</h1>\n",
    "</div>"
   ]
  },
  {
   "cell_type": "code",
   "execution_count": 40,
   "metadata": {},
   "outputs": [],
   "source": [
    "import pandas as pd\n",
    "import numpy as np\n",
    "import matplotlib.pyplot as plt\n",
    "import seaborn as sns \n",
    "import plotly_express as px\n",
    "import klib"
   ]
  },
  {
   "cell_type": "code",
   "execution_count": 22,
   "metadata": {},
   "outputs": [],
   "source": [
    "#load the data\n",
    "df=pd.read_csv('../data/external/KaggleV2-May-2016.csv')"
   ]
  },
  {
   "cell_type": "code",
   "execution_count": 23,
   "metadata": {},
   "outputs": [
    {
     "data": {
      "text/plain": [
       "(110527, 14)"
      ]
     },
     "execution_count": 23,
     "metadata": {},
     "output_type": "execute_result"
    }
   ],
   "source": [
    "df.shape"
   ]
  },
  {
   "cell_type": "code",
   "execution_count": 24,
   "metadata": {},
   "outputs": [
    {
     "data": {
      "text/plain": [
       "Index(['PatientId', 'AppointmentID', 'Gender', 'ScheduledDay',\n",
       "       'AppointmentDay', 'Age', 'Neighbourhood', 'Scholarship', 'Hipertension',\n",
       "       'Diabetes', 'Alcoholism', 'Handcap', 'SMS_received', 'No-show'],\n",
       "      dtype='object')"
      ]
     },
     "execution_count": 24,
     "metadata": {},
     "output_type": "execute_result"
    }
   ],
   "source": [
    "#the name of columns\n",
    "df.columns"
   ]
  },
  {
   "cell_type": "code",
   "execution_count": 20,
   "metadata": {},
   "outputs": [
    {
     "data": {
      "text/html": [
       "<div>\n",
       "<style scoped>\n",
       "    .dataframe tbody tr th:only-of-type {\n",
       "        vertical-align: middle;\n",
       "    }\n",
       "\n",
       "    .dataframe tbody tr th {\n",
       "        vertical-align: top;\n",
       "    }\n",
       "\n",
       "    .dataframe thead th {\n",
       "        text-align: right;\n",
       "    }\n",
       "</style>\n",
       "<table border=\"1\" class=\"dataframe\">\n",
       "  <thead>\n",
       "    <tr style=\"text-align: right;\">\n",
       "      <th></th>\n",
       "      <th>patient_id</th>\n",
       "      <th>appointmentid</th>\n",
       "      <th>gender</th>\n",
       "      <th>scheduled_day</th>\n",
       "      <th>appointment_day</th>\n",
       "      <th>age</th>\n",
       "      <th>neighbourhood</th>\n",
       "      <th>scholarship</th>\n",
       "      <th>hipertension</th>\n",
       "      <th>diabetes</th>\n",
       "      <th>alcoholism</th>\n",
       "      <th>handcap</th>\n",
       "      <th>sms_received</th>\n",
       "      <th>no_show</th>\n",
       "    </tr>\n",
       "  </thead>\n",
       "  <tbody>\n",
       "    <tr>\n",
       "      <th>0</th>\n",
       "      <td>2.987250e+13</td>\n",
       "      <td>5642903</td>\n",
       "      <td>F</td>\n",
       "      <td>2016-04-29T18:38:08Z</td>\n",
       "      <td>2016-04-29T00:00:00Z</td>\n",
       "      <td>62</td>\n",
       "      <td>JARDIM DA PENHA</td>\n",
       "      <td>0</td>\n",
       "      <td>1</td>\n",
       "      <td>0</td>\n",
       "      <td>0</td>\n",
       "      <td>0</td>\n",
       "      <td>0</td>\n",
       "      <td>No</td>\n",
       "    </tr>\n",
       "    <tr>\n",
       "      <th>1</th>\n",
       "      <td>5.589978e+14</td>\n",
       "      <td>5642503</td>\n",
       "      <td>M</td>\n",
       "      <td>2016-04-29T16:08:27Z</td>\n",
       "      <td>2016-04-29T00:00:00Z</td>\n",
       "      <td>56</td>\n",
       "      <td>JARDIM DA PENHA</td>\n",
       "      <td>0</td>\n",
       "      <td>0</td>\n",
       "      <td>0</td>\n",
       "      <td>0</td>\n",
       "      <td>0</td>\n",
       "      <td>0</td>\n",
       "      <td>No</td>\n",
       "    </tr>\n",
       "    <tr>\n",
       "      <th>2</th>\n",
       "      <td>4.262962e+12</td>\n",
       "      <td>5642549</td>\n",
       "      <td>F</td>\n",
       "      <td>2016-04-29T16:19:04Z</td>\n",
       "      <td>2016-04-29T00:00:00Z</td>\n",
       "      <td>62</td>\n",
       "      <td>MATA DA PRAIA</td>\n",
       "      <td>0</td>\n",
       "      <td>0</td>\n",
       "      <td>0</td>\n",
       "      <td>0</td>\n",
       "      <td>0</td>\n",
       "      <td>0</td>\n",
       "      <td>No</td>\n",
       "    </tr>\n",
       "    <tr>\n",
       "      <th>3</th>\n",
       "      <td>8.679512e+11</td>\n",
       "      <td>5642828</td>\n",
       "      <td>F</td>\n",
       "      <td>2016-04-29T17:29:31Z</td>\n",
       "      <td>2016-04-29T00:00:00Z</td>\n",
       "      <td>8</td>\n",
       "      <td>PONTAL DE CAMBURI</td>\n",
       "      <td>0</td>\n",
       "      <td>0</td>\n",
       "      <td>0</td>\n",
       "      <td>0</td>\n",
       "      <td>0</td>\n",
       "      <td>0</td>\n",
       "      <td>No</td>\n",
       "    </tr>\n",
       "    <tr>\n",
       "      <th>4</th>\n",
       "      <td>8.841186e+12</td>\n",
       "      <td>5642494</td>\n",
       "      <td>F</td>\n",
       "      <td>2016-04-29T16:07:23Z</td>\n",
       "      <td>2016-04-29T00:00:00Z</td>\n",
       "      <td>56</td>\n",
       "      <td>JARDIM DA PENHA</td>\n",
       "      <td>0</td>\n",
       "      <td>1</td>\n",
       "      <td>1</td>\n",
       "      <td>0</td>\n",
       "      <td>0</td>\n",
       "      <td>0</td>\n",
       "      <td>No</td>\n",
       "    </tr>\n",
       "  </tbody>\n",
       "</table>\n",
       "</div>"
      ],
      "text/plain": [
       "     patient_id  appointmentid gender         scheduled_day  \\\n",
       "0  2.987250e+13        5642903      F  2016-04-29T18:38:08Z   \n",
       "1  5.589978e+14        5642503      M  2016-04-29T16:08:27Z   \n",
       "2  4.262962e+12        5642549      F  2016-04-29T16:19:04Z   \n",
       "3  8.679512e+11        5642828      F  2016-04-29T17:29:31Z   \n",
       "4  8.841186e+12        5642494      F  2016-04-29T16:07:23Z   \n",
       "\n",
       "        appointment_day  age      neighbourhood  scholarship  hipertension  \\\n",
       "0  2016-04-29T00:00:00Z   62    JARDIM DA PENHA            0             1   \n",
       "1  2016-04-29T00:00:00Z   56    JARDIM DA PENHA            0             0   \n",
       "2  2016-04-29T00:00:00Z   62      MATA DA PRAIA            0             0   \n",
       "3  2016-04-29T00:00:00Z    8  PONTAL DE CAMBURI            0             0   \n",
       "4  2016-04-29T00:00:00Z   56    JARDIM DA PENHA            0             1   \n",
       "\n",
       "   diabetes  alcoholism  handcap  sms_received no_show  \n",
       "0         0           0        0             0      No  \n",
       "1         0           0        0             0      No  \n",
       "2         0           0        0             0      No  \n",
       "3         0           0        0             0      No  \n",
       "4         1           0        0             0      No  "
      ]
     },
     "execution_count": 20,
     "metadata": {},
     "output_type": "execute_result"
    }
   ],
   "source": [
    "#show the first 5 rows of the dataset\n",
    "df.head()"
   ]
  },
  {
   "cell_type": "markdown",
   "metadata": {},
   "source": [
    "<div style=\"background: #49243E; width: 800px; color: #DBAFA0; border-radius: 10px; margin: auto; padding: 20px;\">\n",
    "    <ul >\n",
    "        <li>first our data contains of 110527 rows and 14 features </li>\n",
    "        <li>some columns need to fixed and them make all columns in lower case </li>\n",
    "    </ul>\n",
    "</div>"
   ]
  },
  {
   "cell_type": "code",
   "execution_count": 25,
   "metadata": {},
   "outputs": [],
   "source": [
    "# fixed the name of columns \n",
    "df.rename(columns={'AppointmentID':'Appointment_ID','PatientId':'patient_id','ScheduledDay':'Scheduled_Day','AppointmentDay':'Appointment_Day','No-show':'No_show'},inplace=True)\n",
    "\n",
    "# make the columns in lower case \n",
    "df.columns=df.columns.str.lower()"
   ]
  },
  {
   "cell_type": "code",
   "execution_count": 26,
   "metadata": {},
   "outputs": [
    {
     "data": {
      "text/html": [
       "<div>\n",
       "<style scoped>\n",
       "    .dataframe tbody tr th:only-of-type {\n",
       "        vertical-align: middle;\n",
       "    }\n",
       "\n",
       "    .dataframe tbody tr th {\n",
       "        vertical-align: top;\n",
       "    }\n",
       "\n",
       "    .dataframe thead th {\n",
       "        text-align: right;\n",
       "    }\n",
       "</style>\n",
       "<table border=\"1\" class=\"dataframe\">\n",
       "  <thead>\n",
       "    <tr style=\"text-align: right;\">\n",
       "      <th>gender</th>\n",
       "      <th>F</th>\n",
       "      <th>M</th>\n",
       "    </tr>\n",
       "  </thead>\n",
       "  <tbody>\n",
       "    <tr>\n",
       "      <th>count</th>\n",
       "      <td>71840</td>\n",
       "      <td>38687</td>\n",
       "    </tr>\n",
       "  </tbody>\n",
       "</table>\n",
       "</div>"
      ],
      "text/plain": [
       "gender      F      M\n",
       "count   71840  38687"
      ]
     },
     "metadata": {},
     "output_type": "display_data"
    },
    {
     "data": {
      "text/html": [
       "<div>\n",
       "<style scoped>\n",
       "    .dataframe tbody tr th:only-of-type {\n",
       "        vertical-align: middle;\n",
       "    }\n",
       "\n",
       "    .dataframe tbody tr th {\n",
       "        vertical-align: top;\n",
       "    }\n",
       "\n",
       "    .dataframe thead th {\n",
       "        text-align: right;\n",
       "    }\n",
       "</style>\n",
       "<table border=\"1\" class=\"dataframe\">\n",
       "  <thead>\n",
       "    <tr style=\"text-align: right;\">\n",
       "      <th>neighbourhood</th>\n",
       "      <th>JARDIM CAMBURI</th>\n",
       "      <th>MARIA ORTIZ</th>\n",
       "      <th>RESISTÊNCIA</th>\n",
       "      <th>JARDIM DA PENHA</th>\n",
       "      <th>ITARARÉ</th>\n",
       "      <th>CENTRO</th>\n",
       "      <th>TABUAZEIRO</th>\n",
       "      <th>SANTA MARTHA</th>\n",
       "      <th>JESUS DE NAZARETH</th>\n",
       "      <th>BONFIM</th>\n",
       "      <th>...</th>\n",
       "      <th>UNIVERSITÁRIO</th>\n",
       "      <th>SEGURANÇA DO LAR</th>\n",
       "      <th>NAZARETH</th>\n",
       "      <th>MORADA DE CAMBURI</th>\n",
       "      <th>PONTAL DE CAMBURI</th>\n",
       "      <th>ILHA DO BOI</th>\n",
       "      <th>ILHA DO FRADE</th>\n",
       "      <th>AEROPORTO</th>\n",
       "      <th>ILHAS OCEÂNICAS DE TRINDADE</th>\n",
       "      <th>PARQUE INDUSTRIAL</th>\n",
       "    </tr>\n",
       "  </thead>\n",
       "  <tbody>\n",
       "    <tr>\n",
       "      <th>count</th>\n",
       "      <td>7717</td>\n",
       "      <td>5805</td>\n",
       "      <td>4431</td>\n",
       "      <td>3877</td>\n",
       "      <td>3514</td>\n",
       "      <td>3334</td>\n",
       "      <td>3132</td>\n",
       "      <td>3131</td>\n",
       "      <td>2853</td>\n",
       "      <td>2773</td>\n",
       "      <td>...</td>\n",
       "      <td>152</td>\n",
       "      <td>145</td>\n",
       "      <td>135</td>\n",
       "      <td>96</td>\n",
       "      <td>69</td>\n",
       "      <td>35</td>\n",
       "      <td>10</td>\n",
       "      <td>8</td>\n",
       "      <td>2</td>\n",
       "      <td>1</td>\n",
       "    </tr>\n",
       "  </tbody>\n",
       "</table>\n",
       "<p>1 rows × 81 columns</p>\n",
       "</div>"
      ],
      "text/plain": [
       "neighbourhood  JARDIM CAMBURI  MARIA ORTIZ  RESISTÊNCIA  JARDIM DA PENHA  \\\n",
       "count                    7717         5805         4431             3877   \n",
       "\n",
       "neighbourhood  ITARARÉ  CENTRO  TABUAZEIRO  SANTA MARTHA  JESUS DE NAZARETH  \\\n",
       "count             3514    3334        3132          3131               2853   \n",
       "\n",
       "neighbourhood  BONFIM  ...  UNIVERSITÁRIO  SEGURANÇA DO LAR  NAZARETH  \\\n",
       "count            2773  ...            152               145       135   \n",
       "\n",
       "neighbourhood  MORADA DE CAMBURI  PONTAL DE CAMBURI  ILHA DO BOI  \\\n",
       "count                         96                 69           35   \n",
       "\n",
       "neighbourhood  ILHA DO FRADE  AEROPORTO  ILHAS OCEÂNICAS DE TRINDADE  \\\n",
       "count                     10          8                            2   \n",
       "\n",
       "neighbourhood  PARQUE INDUSTRIAL  \n",
       "count                          1  \n",
       "\n",
       "[1 rows x 81 columns]"
      ]
     },
     "metadata": {},
     "output_type": "display_data"
    },
    {
     "data": {
      "text/html": [
       "<div>\n",
       "<style scoped>\n",
       "    .dataframe tbody tr th:only-of-type {\n",
       "        vertical-align: middle;\n",
       "    }\n",
       "\n",
       "    .dataframe tbody tr th {\n",
       "        vertical-align: top;\n",
       "    }\n",
       "\n",
       "    .dataframe thead th {\n",
       "        text-align: right;\n",
       "    }\n",
       "</style>\n",
       "<table border=\"1\" class=\"dataframe\">\n",
       "  <thead>\n",
       "    <tr style=\"text-align: right;\">\n",
       "      <th>no_show</th>\n",
       "      <th>No</th>\n",
       "      <th>Yes</th>\n",
       "    </tr>\n",
       "  </thead>\n",
       "  <tbody>\n",
       "    <tr>\n",
       "      <th>count</th>\n",
       "      <td>88208</td>\n",
       "      <td>22319</td>\n",
       "    </tr>\n",
       "  </tbody>\n",
       "</table>\n",
       "</div>"
      ],
      "text/plain": [
       "no_show     No    Yes\n",
       "count    88208  22319"
      ]
     },
     "metadata": {},
     "output_type": "display_data"
    }
   ],
   "source": [
    "#check the value of each columns \n",
    "\n",
    "for col in df.select_dtypes('object_').drop(['scheduled_day','appointment_day'],axis=1).columns:\n",
    "    display(df[col].value_counts().to_frame().T)"
   ]
  },
  {
   "cell_type": "markdown",
   "metadata": {},
   "source": [
    "<div style=\"background:#527853;width:900px;margin:auto;border-radius:8px\">\n",
    "    <h2 style=\"color:#F9E8D9;text-align:center;\">Info about the data</h2>\n",
    "</div>"
   ]
  },
  {
   "cell_type": "code",
   "execution_count": 17,
   "metadata": {},
   "outputs": [
    {
     "name": "stdout",
     "output_type": "stream",
     "text": [
      "<class 'pandas.core.frame.DataFrame'>\n",
      "RangeIndex: 110527 entries, 0 to 110526\n",
      "Data columns (total 14 columns):\n",
      " #   Column           Non-Null Count   Dtype  \n",
      "---  ------           --------------   -----  \n",
      " 0   patient_id       110527 non-null  float64\n",
      " 1   appointmentid    110527 non-null  int64  \n",
      " 2   gender           110527 non-null  object \n",
      " 3   scheduled_day    110527 non-null  object \n",
      " 4   appointment_day  110527 non-null  object \n",
      " 5   age              110527 non-null  int64  \n",
      " 6   neighbourhood    110527 non-null  object \n",
      " 7   scholarship      110527 non-null  int64  \n",
      " 8   hipertension     110527 non-null  int64  \n",
      " 9   diabetes         110527 non-null  int64  \n",
      " 10  alcoholism       110527 non-null  int64  \n",
      " 11  handcap          110527 non-null  int64  \n",
      " 12  sms_received     110527 non-null  int64  \n",
      " 13  no_show          110527 non-null  object \n",
      "dtypes: float64(1), int64(8), object(5)\n",
      "memory usage: 11.8+ MB\n"
     ]
    }
   ],
   "source": [
    "df.info()"
   ]
  },
  {
   "cell_type": "markdown",
   "metadata": {},
   "source": [
    "<div style=\"background: #49243E; width: 800px; color: #DBAFA0; border-radius: 10px; margin: auto; padding: 20px;\">\n",
    "    <ul >\n",
    "        <li>first our target is <b>no_show</b>  ,No if the patient showed up to their appointment, and Yes if they did not show up  </li>\n",
    "        <li> the data contains 3 categorical columns and 2 date type columns and 8 numerical columns and index columns <b>patient_id</b> </li>\n",
    "        <li>it seem that the data not have null value </li>\n",
    "    </ul>\n",
    "</div>"
   ]
  },
  {
   "cell_type": "code",
   "execution_count": 19,
   "metadata": {},
   "outputs": [
    {
     "data": {
      "text/html": [
       "<style type=\"text/css\">\n",
       "#T_2fa0d_row0_col0, #T_2fa0d_row1_col0, #T_2fa0d_row1_col1, #T_2fa0d_row1_col2, #T_2fa0d_row1_col4, #T_2fa0d_row1_col5, #T_2fa0d_row1_col6, #T_2fa0d_row1_col7, #T_2fa0d_row2_col0, #T_2fa0d_row2_col1, #T_2fa0d_row2_col2, #T_2fa0d_row2_col3, #T_2fa0d_row2_col4, #T_2fa0d_row2_col5, #T_2fa0d_row2_col6, #T_2fa0d_row2_col7, #T_2fa0d_row3_col0, #T_2fa0d_row3_col1, #T_2fa0d_row3_col2, #T_2fa0d_row3_col3, #T_2fa0d_row3_col4, #T_2fa0d_row3_col5, #T_2fa0d_row3_col6, #T_2fa0d_row3_col7, #T_2fa0d_row4_col0, #T_2fa0d_row4_col1, #T_2fa0d_row4_col2, #T_2fa0d_row4_col3, #T_2fa0d_row4_col4, #T_2fa0d_row4_col5, #T_2fa0d_row4_col6, #T_2fa0d_row4_col7, #T_2fa0d_row5_col0, #T_2fa0d_row5_col1, #T_2fa0d_row5_col2, #T_2fa0d_row5_col3, #T_2fa0d_row5_col4, #T_2fa0d_row5_col5, #T_2fa0d_row5_col6, #T_2fa0d_row5_col7, #T_2fa0d_row6_col0, #T_2fa0d_row6_col1, #T_2fa0d_row6_col2, #T_2fa0d_row6_col3, #T_2fa0d_row6_col4, #T_2fa0d_row6_col5, #T_2fa0d_row6_col6, #T_2fa0d_row6_col7, #T_2fa0d_row7_col0, #T_2fa0d_row7_col1, #T_2fa0d_row7_col2, #T_2fa0d_row7_col3, #T_2fa0d_row7_col4, #T_2fa0d_row7_col5, #T_2fa0d_row7_col6, #T_2fa0d_row7_col7, #T_2fa0d_row8_col0, #T_2fa0d_row8_col1, #T_2fa0d_row8_col2, #T_2fa0d_row8_col3, #T_2fa0d_row8_col4, #T_2fa0d_row8_col5, #T_2fa0d_row8_col6, #T_2fa0d_row8_col7 {\n",
       "  background-color: #fff7fb;\n",
       "  color: #000000;\n",
       "}\n",
       "#T_2fa0d_row0_col1, #T_2fa0d_row0_col2, #T_2fa0d_row0_col4, #T_2fa0d_row0_col5, #T_2fa0d_row0_col6, #T_2fa0d_row0_col7, #T_2fa0d_row1_col3 {\n",
       "  background-color: #023858;\n",
       "  color: #f1f1f1;\n",
       "}\n",
       "#T_2fa0d_row0_col3 {\n",
       "  background-color: #fef6fb;\n",
       "  color: #000000;\n",
       "}\n",
       "</style>\n",
       "<table id=\"T_2fa0d\">\n",
       "  <thead>\n",
       "    <tr>\n",
       "      <th class=\"blank level0\" >&nbsp;</th>\n",
       "      <th id=\"T_2fa0d_level0_col0\" class=\"col_heading level0 col0\" >count</th>\n",
       "      <th id=\"T_2fa0d_level0_col1\" class=\"col_heading level0 col1\" >mean</th>\n",
       "      <th id=\"T_2fa0d_level0_col2\" class=\"col_heading level0 col2\" >std</th>\n",
       "      <th id=\"T_2fa0d_level0_col3\" class=\"col_heading level0 col3\" >min</th>\n",
       "      <th id=\"T_2fa0d_level0_col4\" class=\"col_heading level0 col4\" >25%</th>\n",
       "      <th id=\"T_2fa0d_level0_col5\" class=\"col_heading level0 col5\" >50%</th>\n",
       "      <th id=\"T_2fa0d_level0_col6\" class=\"col_heading level0 col6\" >75%</th>\n",
       "      <th id=\"T_2fa0d_level0_col7\" class=\"col_heading level0 col7\" >max</th>\n",
       "    </tr>\n",
       "  </thead>\n",
       "  <tbody>\n",
       "    <tr>\n",
       "      <th id=\"T_2fa0d_level0_row0\" class=\"row_heading level0 row0\" >patient_id</th>\n",
       "      <td id=\"T_2fa0d_row0_col0\" class=\"data row0 col0\" >110527.000000</td>\n",
       "      <td id=\"T_2fa0d_row0_col1\" class=\"data row0 col1\" >147496265710394.062500</td>\n",
       "      <td id=\"T_2fa0d_row0_col2\" class=\"data row0 col2\" >256094920291738.875000</td>\n",
       "      <td id=\"T_2fa0d_row0_col3\" class=\"data row0 col3\" >39217.844390</td>\n",
       "      <td id=\"T_2fa0d_row0_col4\" class=\"data row0 col4\" >4172614444192.000000</td>\n",
       "      <td id=\"T_2fa0d_row0_col5\" class=\"data row0 col5\" >31731838713978.000000</td>\n",
       "      <td id=\"T_2fa0d_row0_col6\" class=\"data row0 col6\" >94391720898175.000000</td>\n",
       "      <td id=\"T_2fa0d_row0_col7\" class=\"data row0 col7\" >999981631772427.000000</td>\n",
       "    </tr>\n",
       "    <tr>\n",
       "      <th id=\"T_2fa0d_level0_row1\" class=\"row_heading level0 row1\" >appointmentid</th>\n",
       "      <td id=\"T_2fa0d_row1_col0\" class=\"data row1 col0\" >110527.000000</td>\n",
       "      <td id=\"T_2fa0d_row1_col1\" class=\"data row1 col1\" >5675305.123427</td>\n",
       "      <td id=\"T_2fa0d_row1_col2\" class=\"data row1 col2\" >71295.751540</td>\n",
       "      <td id=\"T_2fa0d_row1_col3\" class=\"data row1 col3\" >5030230.000000</td>\n",
       "      <td id=\"T_2fa0d_row1_col4\" class=\"data row1 col4\" >5640285.500000</td>\n",
       "      <td id=\"T_2fa0d_row1_col5\" class=\"data row1 col5\" >5680573.000000</td>\n",
       "      <td id=\"T_2fa0d_row1_col6\" class=\"data row1 col6\" >5725523.500000</td>\n",
       "      <td id=\"T_2fa0d_row1_col7\" class=\"data row1 col7\" >5790484.000000</td>\n",
       "    </tr>\n",
       "    <tr>\n",
       "      <th id=\"T_2fa0d_level0_row2\" class=\"row_heading level0 row2\" >age</th>\n",
       "      <td id=\"T_2fa0d_row2_col0\" class=\"data row2 col0\" >110527.000000</td>\n",
       "      <td id=\"T_2fa0d_row2_col1\" class=\"data row2 col1\" >37.088874</td>\n",
       "      <td id=\"T_2fa0d_row2_col2\" class=\"data row2 col2\" >23.110205</td>\n",
       "      <td id=\"T_2fa0d_row2_col3\" class=\"data row2 col3\" >-1.000000</td>\n",
       "      <td id=\"T_2fa0d_row2_col4\" class=\"data row2 col4\" >18.000000</td>\n",
       "      <td id=\"T_2fa0d_row2_col5\" class=\"data row2 col5\" >37.000000</td>\n",
       "      <td id=\"T_2fa0d_row2_col6\" class=\"data row2 col6\" >55.000000</td>\n",
       "      <td id=\"T_2fa0d_row2_col7\" class=\"data row2 col7\" >115.000000</td>\n",
       "    </tr>\n",
       "    <tr>\n",
       "      <th id=\"T_2fa0d_level0_row3\" class=\"row_heading level0 row3\" >scholarship</th>\n",
       "      <td id=\"T_2fa0d_row3_col0\" class=\"data row3 col0\" >110527.000000</td>\n",
       "      <td id=\"T_2fa0d_row3_col1\" class=\"data row3 col1\" >0.098266</td>\n",
       "      <td id=\"T_2fa0d_row3_col2\" class=\"data row3 col2\" >0.297675</td>\n",
       "      <td id=\"T_2fa0d_row3_col3\" class=\"data row3 col3\" >0.000000</td>\n",
       "      <td id=\"T_2fa0d_row3_col4\" class=\"data row3 col4\" >0.000000</td>\n",
       "      <td id=\"T_2fa0d_row3_col5\" class=\"data row3 col5\" >0.000000</td>\n",
       "      <td id=\"T_2fa0d_row3_col6\" class=\"data row3 col6\" >0.000000</td>\n",
       "      <td id=\"T_2fa0d_row3_col7\" class=\"data row3 col7\" >1.000000</td>\n",
       "    </tr>\n",
       "    <tr>\n",
       "      <th id=\"T_2fa0d_level0_row4\" class=\"row_heading level0 row4\" >hipertension</th>\n",
       "      <td id=\"T_2fa0d_row4_col0\" class=\"data row4 col0\" >110527.000000</td>\n",
       "      <td id=\"T_2fa0d_row4_col1\" class=\"data row4 col1\" >0.197246</td>\n",
       "      <td id=\"T_2fa0d_row4_col2\" class=\"data row4 col2\" >0.397921</td>\n",
       "      <td id=\"T_2fa0d_row4_col3\" class=\"data row4 col3\" >0.000000</td>\n",
       "      <td id=\"T_2fa0d_row4_col4\" class=\"data row4 col4\" >0.000000</td>\n",
       "      <td id=\"T_2fa0d_row4_col5\" class=\"data row4 col5\" >0.000000</td>\n",
       "      <td id=\"T_2fa0d_row4_col6\" class=\"data row4 col6\" >0.000000</td>\n",
       "      <td id=\"T_2fa0d_row4_col7\" class=\"data row4 col7\" >1.000000</td>\n",
       "    </tr>\n",
       "    <tr>\n",
       "      <th id=\"T_2fa0d_level0_row5\" class=\"row_heading level0 row5\" >diabetes</th>\n",
       "      <td id=\"T_2fa0d_row5_col0\" class=\"data row5 col0\" >110527.000000</td>\n",
       "      <td id=\"T_2fa0d_row5_col1\" class=\"data row5 col1\" >0.071865</td>\n",
       "      <td id=\"T_2fa0d_row5_col2\" class=\"data row5 col2\" >0.258265</td>\n",
       "      <td id=\"T_2fa0d_row5_col3\" class=\"data row5 col3\" >0.000000</td>\n",
       "      <td id=\"T_2fa0d_row5_col4\" class=\"data row5 col4\" >0.000000</td>\n",
       "      <td id=\"T_2fa0d_row5_col5\" class=\"data row5 col5\" >0.000000</td>\n",
       "      <td id=\"T_2fa0d_row5_col6\" class=\"data row5 col6\" >0.000000</td>\n",
       "      <td id=\"T_2fa0d_row5_col7\" class=\"data row5 col7\" >1.000000</td>\n",
       "    </tr>\n",
       "    <tr>\n",
       "      <th id=\"T_2fa0d_level0_row6\" class=\"row_heading level0 row6\" >alcoholism</th>\n",
       "      <td id=\"T_2fa0d_row6_col0\" class=\"data row6 col0\" >110527.000000</td>\n",
       "      <td id=\"T_2fa0d_row6_col1\" class=\"data row6 col1\" >0.030400</td>\n",
       "      <td id=\"T_2fa0d_row6_col2\" class=\"data row6 col2\" >0.171686</td>\n",
       "      <td id=\"T_2fa0d_row6_col3\" class=\"data row6 col3\" >0.000000</td>\n",
       "      <td id=\"T_2fa0d_row6_col4\" class=\"data row6 col4\" >0.000000</td>\n",
       "      <td id=\"T_2fa0d_row6_col5\" class=\"data row6 col5\" >0.000000</td>\n",
       "      <td id=\"T_2fa0d_row6_col6\" class=\"data row6 col6\" >0.000000</td>\n",
       "      <td id=\"T_2fa0d_row6_col7\" class=\"data row6 col7\" >1.000000</td>\n",
       "    </tr>\n",
       "    <tr>\n",
       "      <th id=\"T_2fa0d_level0_row7\" class=\"row_heading level0 row7\" >handcap</th>\n",
       "      <td id=\"T_2fa0d_row7_col0\" class=\"data row7 col0\" >110527.000000</td>\n",
       "      <td id=\"T_2fa0d_row7_col1\" class=\"data row7 col1\" >0.022248</td>\n",
       "      <td id=\"T_2fa0d_row7_col2\" class=\"data row7 col2\" >0.161543</td>\n",
       "      <td id=\"T_2fa0d_row7_col3\" class=\"data row7 col3\" >0.000000</td>\n",
       "      <td id=\"T_2fa0d_row7_col4\" class=\"data row7 col4\" >0.000000</td>\n",
       "      <td id=\"T_2fa0d_row7_col5\" class=\"data row7 col5\" >0.000000</td>\n",
       "      <td id=\"T_2fa0d_row7_col6\" class=\"data row7 col6\" >0.000000</td>\n",
       "      <td id=\"T_2fa0d_row7_col7\" class=\"data row7 col7\" >4.000000</td>\n",
       "    </tr>\n",
       "    <tr>\n",
       "      <th id=\"T_2fa0d_level0_row8\" class=\"row_heading level0 row8\" >sms_received</th>\n",
       "      <td id=\"T_2fa0d_row8_col0\" class=\"data row8 col0\" >110527.000000</td>\n",
       "      <td id=\"T_2fa0d_row8_col1\" class=\"data row8 col1\" >0.321026</td>\n",
       "      <td id=\"T_2fa0d_row8_col2\" class=\"data row8 col2\" >0.466873</td>\n",
       "      <td id=\"T_2fa0d_row8_col3\" class=\"data row8 col3\" >0.000000</td>\n",
       "      <td id=\"T_2fa0d_row8_col4\" class=\"data row8 col4\" >0.000000</td>\n",
       "      <td id=\"T_2fa0d_row8_col5\" class=\"data row8 col5\" >0.000000</td>\n",
       "      <td id=\"T_2fa0d_row8_col6\" class=\"data row8 col6\" >1.000000</td>\n",
       "      <td id=\"T_2fa0d_row8_col7\" class=\"data row8 col7\" >1.000000</td>\n",
       "    </tr>\n",
       "  </tbody>\n",
       "</table>\n"
      ],
      "text/plain": [
       "<pandas.io.formats.style.Styler at 0x2818f93c610>"
      ]
     },
     "execution_count": 19,
     "metadata": {},
     "output_type": "execute_result"
    }
   ],
   "source": [
    "#describe of the data \n",
    "df.describe().T.style.background_gradient()"
   ]
  },
  {
   "cell_type": "markdown",
   "metadata": {},
   "source": [
    "<div style=\"background: #49243E; width: 800px; color: #DBAFA0; border-radius: 10px; margin: auto; padding: 20px;\">\n",
    "    <ul >\n",
    "        <li><b>Age</b> : the average patient age is (37) years and the min value is (-1) that may be can an error   </li>\n",
    "        <li>  <b>Scholarship</b> on average about 9.8% of patient are enrolled in welfare program   </li>\n",
    "        <li><b> hypertension </b> : on average about 19.72 of patents have hypertension  </li>\n",
    "        <li><b> Diabetes </b> : on average about 7.19% of patents have Diabetes  </li>\n",
    "        <li><b> sms_received </b> : On average, about 32.10% of the patients received one or more SMS messages.  </li>\n",
    "        <li><b> handcap </b> : on average about 2.22% of patents are disabilities  and the 97% of patents not have disabilities that appears on 25% and 50% and 75% of data have 0 value    </li>\n",
    "    </ul>\n",
    "</div>"
   ]
  },
  {
   "cell_type": "code",
   "execution_count": 46,
   "metadata": {},
   "outputs": [
    {
     "data": {
      "text/html": [
       "<div>\n",
       "<style scoped>\n",
       "    .dataframe tbody tr th:only-of-type {\n",
       "        vertical-align: middle;\n",
       "    }\n",
       "\n",
       "    .dataframe tbody tr th {\n",
       "        vertical-align: top;\n",
       "    }\n",
       "\n",
       "    .dataframe thead th {\n",
       "        text-align: right;\n",
       "    }\n",
       "</style>\n",
       "<table border=\"1\" class=\"dataframe\">\n",
       "  <thead>\n",
       "    <tr style=\"text-align: right;\">\n",
       "      <th></th>\n",
       "      <th>patient_id</th>\n",
       "      <th>appointment_id</th>\n",
       "      <th>gender</th>\n",
       "      <th>scheduled_day</th>\n",
       "      <th>appointment_day</th>\n",
       "      <th>age</th>\n",
       "      <th>neighbourhood</th>\n",
       "      <th>scholarship</th>\n",
       "      <th>hipertension</th>\n",
       "      <th>diabetes</th>\n",
       "      <th>alcoholism</th>\n",
       "      <th>handcap</th>\n",
       "      <th>sms_received</th>\n",
       "      <th>no_show</th>\n",
       "    </tr>\n",
       "  </thead>\n",
       "  <tbody>\n",
       "  </tbody>\n",
       "</table>\n",
       "</div>"
      ],
      "text/plain": [
       "Empty DataFrame\n",
       "Columns: [patient_id, appointment_id, gender, scheduled_day, appointment_day, age, neighbourhood, scholarship, hipertension, diabetes, alcoholism, handcap, sms_received, no_show]\n",
       "Index: []"
      ]
     },
     "execution_count": 46,
     "metadata": {},
     "output_type": "execute_result"
    }
   ],
   "source": [
    "#drop the row when the age value is -1\n",
    "\n",
    "df[df['age']==-1]"
   ]
  },
  {
   "cell_type": "code",
   "execution_count": 45,
   "metadata": {},
   "outputs": [],
   "source": [
    "df=df[df['age']!=-1]"
   ]
  },
  {
   "cell_type": "code",
   "execution_count": 36,
   "metadata": {},
   "outputs": [
    {
     "data": {
      "text/html": [
       "<style type=\"text/css\">\n",
       "</style>\n",
       "<table id=\"T_f8ece\">\n",
       "  <thead>\n",
       "    <tr>\n",
       "      <th class=\"blank level0\" >&nbsp;</th>\n",
       "      <th id=\"T_f8ece_level0_col0\" class=\"col_heading level0 col0\" >count</th>\n",
       "      <th id=\"T_f8ece_level0_col1\" class=\"col_heading level0 col1\" >unique</th>\n",
       "      <th id=\"T_f8ece_level0_col2\" class=\"col_heading level0 col2\" >top</th>\n",
       "      <th id=\"T_f8ece_level0_col3\" class=\"col_heading level0 col3\" >freq</th>\n",
       "    </tr>\n",
       "  </thead>\n",
       "  <tbody>\n",
       "    <tr>\n",
       "      <th id=\"T_f8ece_level0_row0\" class=\"row_heading level0 row0\" >gender</th>\n",
       "      <td id=\"T_f8ece_row0_col0\" class=\"data row0 col0\" >110527</td>\n",
       "      <td id=\"T_f8ece_row0_col1\" class=\"data row0 col1\" >2</td>\n",
       "      <td id=\"T_f8ece_row0_col2\" class=\"data row0 col2\" >F</td>\n",
       "      <td id=\"T_f8ece_row0_col3\" class=\"data row0 col3\" >71840</td>\n",
       "    </tr>\n",
       "    <tr>\n",
       "      <th id=\"T_f8ece_level0_row1\" class=\"row_heading level0 row1\" >scheduled_day</th>\n",
       "      <td id=\"T_f8ece_row1_col0\" class=\"data row1 col0\" >110527</td>\n",
       "      <td id=\"T_f8ece_row1_col1\" class=\"data row1 col1\" >103549</td>\n",
       "      <td id=\"T_f8ece_row1_col2\" class=\"data row1 col2\" >2016-05-06T07:09:54Z</td>\n",
       "      <td id=\"T_f8ece_row1_col3\" class=\"data row1 col3\" >24</td>\n",
       "    </tr>\n",
       "    <tr>\n",
       "      <th id=\"T_f8ece_level0_row2\" class=\"row_heading level0 row2\" >appointment_day</th>\n",
       "      <td id=\"T_f8ece_row2_col0\" class=\"data row2 col0\" >110527</td>\n",
       "      <td id=\"T_f8ece_row2_col1\" class=\"data row2 col1\" >27</td>\n",
       "      <td id=\"T_f8ece_row2_col2\" class=\"data row2 col2\" >2016-06-06T00:00:00Z</td>\n",
       "      <td id=\"T_f8ece_row2_col3\" class=\"data row2 col3\" >4692</td>\n",
       "    </tr>\n",
       "    <tr>\n",
       "      <th id=\"T_f8ece_level0_row3\" class=\"row_heading level0 row3\" >neighbourhood</th>\n",
       "      <td id=\"T_f8ece_row3_col0\" class=\"data row3 col0\" >110527</td>\n",
       "      <td id=\"T_f8ece_row3_col1\" class=\"data row3 col1\" >81</td>\n",
       "      <td id=\"T_f8ece_row3_col2\" class=\"data row3 col2\" >JARDIM CAMBURI</td>\n",
       "      <td id=\"T_f8ece_row3_col3\" class=\"data row3 col3\" >7717</td>\n",
       "    </tr>\n",
       "    <tr>\n",
       "      <th id=\"T_f8ece_level0_row4\" class=\"row_heading level0 row4\" >no_show</th>\n",
       "      <td id=\"T_f8ece_row4_col0\" class=\"data row4 col0\" >110527</td>\n",
       "      <td id=\"T_f8ece_row4_col1\" class=\"data row4 col1\" >2</td>\n",
       "      <td id=\"T_f8ece_row4_col2\" class=\"data row4 col2\" >No</td>\n",
       "      <td id=\"T_f8ece_row4_col3\" class=\"data row4 col3\" >88208</td>\n",
       "    </tr>\n",
       "  </tbody>\n",
       "</table>\n"
      ],
      "text/plain": [
       "<pandas.io.formats.style.Styler at 0x2819a453650>"
      ]
     },
     "execution_count": 36,
     "metadata": {},
     "output_type": "execute_result"
    }
   ],
   "source": [
    "df.describe(include='object').T.style.background_gradient()"
   ]
  },
  {
   "cell_type": "markdown",
   "metadata": {},
   "source": [
    "<div style=\"background: #49243E; width: 800px; color: #DBAFA0; border-radius: 10px; margin: auto; padding: 20px;\">\n",
    "    <ul >\n",
    "        <li><b>Gender</b> : There are 2 unique values in this column. The most frequent gender is Female (F), appearing 71,840 times.</li>\n",
    "        <li><b>neighbourhood</b> : There are 81 unique values in this column. The most frequent neighbourhood is JARDIM CAMBURI, appearing 7,717 times.</li>\n",
    "        <li><b>no_show</b>There are 2 unique values in this column. The most frequent value is No, appearing 88,208 times. This means that most appointments were kept.</li>\n",
    "        <li>the target columns <b> ( no_show)</b> has imbalanced data ,the value of no appear 80% of the data </li>\n",
    "        </ul>\n",
    "\n",
    "\n",
    "</div>"
   ]
  },
  {
   "cell_type": "code",
   "execution_count": 41,
   "metadata": {},
   "outputs": [
    {
     "name": "stdout",
     "output_type": "stream",
     "text": [
      "No missing values found in the dataset.\n"
     ]
    }
   ],
   "source": [
    "#check the null value \n",
    "klib.missingval_plot(df)"
   ]
  },
  {
   "cell_type": "code",
   "execution_count": 43,
   "metadata": {},
   "outputs": [
    {
     "data": {
      "text/plain": [
       "0"
      ]
     },
     "execution_count": 43,
     "metadata": {},
     "output_type": "execute_result"
    }
   ],
   "source": [
    "#check the duplicated in data\n",
    "df.duplicated().sum()"
   ]
  },
  {
   "cell_type": "code",
   "execution_count": 48,
   "metadata": {},
   "outputs": [],
   "source": [
    "df.to_csv('../data/processed/patent_data.csv')"
   ]
  },
  {
   "cell_type": "markdown",
   "metadata": {},
   "source": [
    "<div style=\"background:#97BFB4;width:900px;margin:auto;border-radius:8px;padding:8px\">\n",
    "    <p style=\"color:#EC255A;text-align:center;\"> here we can end this book in this step end this book and move to next step </p>\n",
    "</div>"
   ]
  },
  {
   "cell_type": "markdown",
   "metadata": {},
   "source": [
    "<img src='../src/image/02.jpeg' alt='project image' style='width:500px; height:300px; display: block; margin: auto;'>\n"
   ]
  }
 ],
 "metadata": {
  "kernelspec": {
   "display_name": "base",
   "language": "python",
   "name": "python3"
  },
  "language_info": {
   "codemirror_mode": {
    "name": "ipython",
    "version": 3
   },
   "file_extension": ".py",
   "mimetype": "text/x-python",
   "name": "python",
   "nbconvert_exporter": "python",
   "pygments_lexer": "ipython3",
   "version": "3.11.5"
  }
 },
 "nbformat": 4,
 "nbformat_minor": 2
}
